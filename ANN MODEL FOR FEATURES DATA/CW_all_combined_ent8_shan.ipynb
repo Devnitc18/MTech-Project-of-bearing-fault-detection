{
 "cells": [
  {
   "cell_type": "code",
   "execution_count": 1,
   "metadata": {},
   "outputs": [],
   "source": [
    "import pandas as pd\n",
    "import glob "
   ]
  },
  {
   "cell_type": "code",
   "execution_count": 2,
   "metadata": {},
   "outputs": [
    {
     "name": "stdout",
     "output_type": "stream",
     "text": [
      "['C:/Users/Dev/Documents/cbm_codes_open-master/featurematrix1\\\\feature_matrix_ent8_1024_shan_ball.csv', 'C:/Users/Dev/Documents/cbm_codes_open-master/featurematrix1\\\\feature_matrix_ent8_1024_shan_inner.csv', 'C:/Users/Dev/Documents/cbm_codes_open-master/featurematrix1\\\\feature_matrix_ent8_1024_shan_outer_6.csv']\n"
     ]
    }
   ],
   "source": [
    "paths = glob.glob(\"C:/Users/Dev/Documents/cbm_codes_open-master/featurematrix1/feature_matrix_ent8_1024*.csv\")\n",
    "print(paths)"
   ]
  },
  {
   "cell_type": "code",
   "execution_count": 3,
   "metadata": {},
   "outputs": [
    {
     "name": "stderr",
     "output_type": "stream",
     "text": [
      "C:\\Users\\Dev\\AppData\\Local\\Temp\\ipykernel_13600\\4270435050.py:6: FutureWarning: The frame.append method is deprecated and will be removed from pandas in a future version. Use pandas.concat instead.\n",
      "  data_all = df1.append(df2[1657:], ignore_index = True)\n",
      "C:\\Users\\Dev\\AppData\\Local\\Temp\\ipykernel_13600\\4270435050.py:9: FutureWarning: The frame.append method is deprecated and will be removed from pandas in a future version. Use pandas.concat instead.\n",
      "  data_all = data_all.append(df3[1657:], ignore_index = True)\n"
     ]
    },
    {
     "data": {
      "text/plain": [
       "ball      1894\n",
       "inner     1893\n",
       "Normal    1657\n",
       "outer     1425\n",
       "Name: fault_type, dtype: int64"
      ]
     },
     "execution_count": 3,
     "metadata": {},
     "output_type": "execute_result"
    }
   ],
   "source": [
    "df1 = pd.read_csv(paths[0])\n",
    "df1.loc[1657:,'fault_type'] = \"ball\"\n",
    "# df1['fault_type'].value_counts()\n",
    "df2 = pd.read_csv(paths[1])\n",
    "df2.loc[1657:,'fault_type'] = 'inner'\n",
    "data_all = df1.append(df2[1657:], ignore_index = True)\n",
    "df3 = pd.read_csv(paths[2])\n",
    "df3.loc[1657:,'fault_type'] = 'outer'\n",
    "data_all = data_all.append(df3[1657:], ignore_index = True)\n",
    "del [df1, df2, df3]\n",
    "data_all['fault_type'].value_counts()"
   ]
  },
  {
   "cell_type": "code",
   "execution_count": 4,
   "metadata": {},
   "outputs": [],
   "source": [
    "import numpy as np\n",
    "from numpy.random import choice \n",
    "np.random.seed(1)\n",
    "index = np.array([choice(np.arange(0,1657),1400,replace = False),\n",
    "                choice(np.arange(1657,3551),1400,replace = False),\n",
    "                choice(np.arange(3551,5444),1400,replace = False),\n",
    "                choice(np.arange(5444,6869),1400,replace = False)])\n",
    "index = index.ravel()\n",
    "data = data_all.iloc[index,]\n",
    "data = data.reset_index(drop = True)\n",
    "test_index = np.array([choice(np.arange(0,1400),400, replace = False),\n",
    "                     choice(np.arange(1400,2*1400),400, replace = False),\n",
    "                     choice(np.arange(2*1400,3*1400),400, replace = False),\n",
    "                     choice(np.arange(3*1400,4*1400),400, replace = False)])\n",
    "\n",
    "test_index = test_index.ravel()\n",
    "test_data = data.iloc[test_index,]\n",
    "train_data = data.drop(data.index[test_index])\n",
    "\n",
    "# Shuffle data\n",
    "train_data = train_data.sample(frac = 1, random_state = 2)\n",
    "test_data = test_data.sample(frac = 1, random_state = 3)\n",
    "\n",
    "# Convert categorical lables to numberic entries\n",
    "\n",
    "category_labels = ['Normal', 'ball', 'inner','outer']\n",
    "# test_labels = test_data['fault_type']\n",
    "test_labels = pd.Categorical(test_data['fault_type'],categories= category_labels).codes # Produces ndarrays\n",
    "# train_labels = train_data['fault_type']\n",
    "train_labels = pd.Categorical(train_data['fault_type'], categories = category_labels).codes"
   ]
  },
  {
   "cell_type": "code",
   "execution_count": 5,
   "metadata": {},
   "outputs": [
    {
     "name": "stdout",
     "output_type": "stream",
     "text": [
      "(5600, 9) (1600, 9) (4000, 9) (1600,) (4000,)\n"
     ]
    }
   ],
   "source": [
    "print(data.shape,test_data.shape,train_data.shape,test_labels.shape,train_labels.shape)"
   ]
  },
  {
   "cell_type": "code",
   "execution_count": 6,
   "metadata": {},
   "outputs": [],
   "source": [
    "import tensorflow as tf\n",
    "from tensorflow import keras\n",
    "from tensorflow.keras.models import Sequential\n",
    "from tensorflow.keras import layers\n",
    "from tensorflow.keras.utils import to_categorical\n",
    "from tensorflow.keras.callbacks import EarlyStopping\n",
    "import sklearn\n",
    "from sklearn import preprocessing"
   ]
  },
  {
   "cell_type": "code",
   "execution_count": 7,
   "metadata": {},
   "outputs": [],
   "source": [
    "# Convert labels to categorical data\n",
    "train_data = train_data.iloc[:,0:8]\n",
    "test_data = test_data.iloc[:,0:8]\n",
    "# Scale the data\n",
    "train_data = preprocessing.scale(train_data)\n",
    "test_data = preprocessing.scale(test_data)\n",
    "train_labels = to_categorical(train_labels)\n",
    "test_labels = to_categorical(test_labels)"
   ]
  },
  {
   "cell_type": "code",
   "execution_count": 8,
   "metadata": {},
   "outputs": [
    {
     "name": "stdout",
     "output_type": "stream",
     "text": [
      "(4000, 8) (1600, 8) (4000, 4) (1600, 4)\n"
     ]
    }
   ],
   "source": [
    "print(train_data.shape, test_data.shape, train_labels.shape, test_labels.shape)"
   ]
  },
  {
   "cell_type": "code",
   "execution_count": 9,
   "metadata": {},
   "outputs": [
    {
     "name": "stdout",
     "output_type": "stream",
     "text": [
      "Model: \"sequential\"\n",
      "_________________________________________________________________\n",
      " Layer (type)                Output Shape              Param #   \n",
      "=================================================================\n",
      " dense (Dense)               (None, 5)                 45        \n",
      "                                                                 \n",
      " dense_1 (Dense)             (None, 5)                 30        \n",
      "                                                                 \n",
      " dense_2 (Dense)             (None, 4)                 24        \n",
      "                                                                 \n",
      "=================================================================\n",
      "Total params: 99\n",
      "Trainable params: 99\n",
      "Non-trainable params: 0\n",
      "_________________________________________________________________\n"
     ]
    }
   ],
   "source": [
    "model = Sequential([\n",
    "    layers.Dense(5,activation = 'relu', input_dim = 8),\n",
    "#     layers.Dropout(0.2),\n",
    "    layers.Dense(5,activation = 'relu'),\n",
    "    layers.Dense(4,activation = 'softmax')\n",
    "])\n",
    "model.summary()"
   ]
  },
  {
   "cell_type": "code",
   "execution_count": 10,
   "metadata": {},
   "outputs": [],
   "source": [
    "model.compile(optimizer = 'adam',loss = 'categorical_crossentropy', metrics = ['accuracy'])"
   ]
  },
  {
   "cell_type": "code",
   "execution_count": 11,
   "metadata": {},
   "outputs": [],
   "source": [
    "callbacks = [EarlyStopping(monitor = 'val_loss', mode = 'min', verbose = 1, patience = 5)]"
   ]
  },
  {
   "cell_type": "code",
   "execution_count": 12,
   "metadata": {},
   "outputs": [
    {
     "name": "stdout",
     "output_type": "stream",
     "text": [
      "Epoch 1/100\n",
      "100/100 - 1s - loss: 1.3394 - accuracy: 0.4081 - val_loss: 1.3077 - val_accuracy: 0.3875 - 1s/epoch - 12ms/step\n",
      "Epoch 2/100\n",
      "100/100 - 0s - loss: 1.2627 - accuracy: 0.4591 - val_loss: 1.2408 - val_accuracy: 0.4650 - 178ms/epoch - 2ms/step\n",
      "Epoch 3/100\n",
      "100/100 - 0s - loss: 1.1851 - accuracy: 0.5319 - val_loss: 1.1667 - val_accuracy: 0.5350 - 171ms/epoch - 2ms/step\n",
      "Epoch 4/100\n",
      "100/100 - 0s - loss: 1.0973 - accuracy: 0.6016 - val_loss: 1.0595 - val_accuracy: 0.5938 - 179ms/epoch - 2ms/step\n",
      "Epoch 5/100\n",
      "100/100 - 0s - loss: 0.9984 - accuracy: 0.6225 - val_loss: 0.9655 - val_accuracy: 0.6300 - 172ms/epoch - 2ms/step\n",
      "Epoch 6/100\n",
      "100/100 - 0s - loss: 0.9192 - accuracy: 0.6419 - val_loss: 0.8948 - val_accuracy: 0.6538 - 182ms/epoch - 2ms/step\n",
      "Epoch 7/100\n",
      "100/100 - 0s - loss: 0.8563 - accuracy: 0.6678 - val_loss: 0.8359 - val_accuracy: 0.6800 - 177ms/epoch - 2ms/step\n",
      "Epoch 8/100\n",
      "100/100 - 0s - loss: 0.7994 - accuracy: 0.7441 - val_loss: 0.7823 - val_accuracy: 0.7588 - 188ms/epoch - 2ms/step\n",
      "Epoch 9/100\n",
      "100/100 - 0s - loss: 0.7478 - accuracy: 0.7831 - val_loss: 0.7356 - val_accuracy: 0.7775 - 176ms/epoch - 2ms/step\n",
      "Epoch 10/100\n",
      "100/100 - 0s - loss: 0.7000 - accuracy: 0.7909 - val_loss: 0.6868 - val_accuracy: 0.7862 - 169ms/epoch - 2ms/step\n",
      "Epoch 11/100\n",
      "100/100 - 0s - loss: 0.6524 - accuracy: 0.8116 - val_loss: 0.6410 - val_accuracy: 0.8275 - 156ms/epoch - 2ms/step\n",
      "Epoch 12/100\n",
      "100/100 - 0s - loss: 0.5996 - accuracy: 0.8484 - val_loss: 0.5805 - val_accuracy: 0.8625 - 173ms/epoch - 2ms/step\n",
      "Epoch 13/100\n",
      "100/100 - 0s - loss: 0.5272 - accuracy: 0.8800 - val_loss: 0.4978 - val_accuracy: 0.8900 - 169ms/epoch - 2ms/step\n",
      "Epoch 14/100\n",
      "100/100 - 0s - loss: 0.4470 - accuracy: 0.9000 - val_loss: 0.4253 - val_accuracy: 0.9062 - 173ms/epoch - 2ms/step\n",
      "Epoch 15/100\n",
      "100/100 - 0s - loss: 0.3818 - accuracy: 0.9100 - val_loss: 0.3742 - val_accuracy: 0.9125 - 165ms/epoch - 2ms/step\n",
      "Epoch 16/100\n",
      "100/100 - 0s - loss: 0.3347 - accuracy: 0.9194 - val_loss: 0.3373 - val_accuracy: 0.9237 - 164ms/epoch - 2ms/step\n",
      "Epoch 17/100\n",
      "100/100 - 0s - loss: 0.2997 - accuracy: 0.9275 - val_loss: 0.3114 - val_accuracy: 0.9250 - 163ms/epoch - 2ms/step\n",
      "Epoch 18/100\n",
      "100/100 - 0s - loss: 0.2744 - accuracy: 0.9331 - val_loss: 0.2899 - val_accuracy: 0.9275 - 162ms/epoch - 2ms/step\n",
      "Epoch 19/100\n",
      "100/100 - 0s - loss: 0.2526 - accuracy: 0.9375 - val_loss: 0.2699 - val_accuracy: 0.9337 - 155ms/epoch - 2ms/step\n",
      "Epoch 20/100\n",
      "100/100 - 0s - loss: 0.2352 - accuracy: 0.9425 - val_loss: 0.2532 - val_accuracy: 0.9425 - 165ms/epoch - 2ms/step\n",
      "Epoch 21/100\n",
      "100/100 - 0s - loss: 0.2197 - accuracy: 0.9459 - val_loss: 0.2387 - val_accuracy: 0.9375 - 166ms/epoch - 2ms/step\n",
      "Epoch 22/100\n",
      "100/100 - 0s - loss: 0.2053 - accuracy: 0.9519 - val_loss: 0.2226 - val_accuracy: 0.9500 - 164ms/epoch - 2ms/step\n",
      "Epoch 23/100\n",
      "100/100 - 0s - loss: 0.1910 - accuracy: 0.9559 - val_loss: 0.2087 - val_accuracy: 0.9525 - 165ms/epoch - 2ms/step\n",
      "Epoch 24/100\n",
      "100/100 - 0s - loss: 0.1771 - accuracy: 0.9603 - val_loss: 0.1935 - val_accuracy: 0.9513 - 162ms/epoch - 2ms/step\n",
      "Epoch 25/100\n",
      "100/100 - 0s - loss: 0.1644 - accuracy: 0.9609 - val_loss: 0.1801 - val_accuracy: 0.9600 - 152ms/epoch - 2ms/step\n",
      "Epoch 26/100\n",
      "100/100 - 0s - loss: 0.1532 - accuracy: 0.9641 - val_loss: 0.1695 - val_accuracy: 0.9563 - 167ms/epoch - 2ms/step\n",
      "Epoch 27/100\n",
      "100/100 - 0s - loss: 0.1430 - accuracy: 0.9672 - val_loss: 0.1639 - val_accuracy: 0.9563 - 161ms/epoch - 2ms/step\n",
      "Epoch 28/100\n",
      "100/100 - 0s - loss: 0.1363 - accuracy: 0.9688 - val_loss: 0.1513 - val_accuracy: 0.9688 - 168ms/epoch - 2ms/step\n",
      "Epoch 29/100\n",
      "100/100 - 0s - loss: 0.1278 - accuracy: 0.9691 - val_loss: 0.1431 - val_accuracy: 0.9663 - 166ms/epoch - 2ms/step\n",
      "Epoch 30/100\n",
      "100/100 - 0s - loss: 0.1213 - accuracy: 0.9709 - val_loss: 0.1368 - val_accuracy: 0.9700 - 162ms/epoch - 2ms/step\n",
      "Epoch 31/100\n",
      "100/100 - 0s - loss: 0.1160 - accuracy: 0.9722 - val_loss: 0.1314 - val_accuracy: 0.9737 - 159ms/epoch - 2ms/step\n",
      "Epoch 32/100\n",
      "100/100 - 0s - loss: 0.1103 - accuracy: 0.9734 - val_loss: 0.1258 - val_accuracy: 0.9737 - 169ms/epoch - 2ms/step\n",
      "Epoch 33/100\n",
      "100/100 - 0s - loss: 0.1060 - accuracy: 0.9753 - val_loss: 0.1214 - val_accuracy: 0.9725 - 164ms/epoch - 2ms/step\n",
      "Epoch 34/100\n",
      "100/100 - 0s - loss: 0.1017 - accuracy: 0.9750 - val_loss: 0.1228 - val_accuracy: 0.9762 - 163ms/epoch - 2ms/step\n",
      "Epoch 35/100\n",
      "100/100 - 0s - loss: 0.0991 - accuracy: 0.9756 - val_loss: 0.1176 - val_accuracy: 0.9712 - 166ms/epoch - 2ms/step\n",
      "Epoch 36/100\n",
      "100/100 - 0s - loss: 0.0952 - accuracy: 0.9759 - val_loss: 0.1115 - val_accuracy: 0.9750 - 164ms/epoch - 2ms/step\n",
      "Epoch 37/100\n",
      "100/100 - 0s - loss: 0.0926 - accuracy: 0.9769 - val_loss: 0.1079 - val_accuracy: 0.9737 - 161ms/epoch - 2ms/step\n",
      "Epoch 38/100\n",
      "100/100 - 0s - loss: 0.0897 - accuracy: 0.9772 - val_loss: 0.1059 - val_accuracy: 0.9737 - 165ms/epoch - 2ms/step\n",
      "Epoch 39/100\n",
      "100/100 - 0s - loss: 0.0868 - accuracy: 0.9778 - val_loss: 0.1035 - val_accuracy: 0.9750 - 171ms/epoch - 2ms/step\n",
      "Epoch 40/100\n",
      "100/100 - 0s - loss: 0.0851 - accuracy: 0.9781 - val_loss: 0.1014 - val_accuracy: 0.9750 - 172ms/epoch - 2ms/step\n",
      "Epoch 41/100\n",
      "100/100 - 0s - loss: 0.0826 - accuracy: 0.9787 - val_loss: 0.0996 - val_accuracy: 0.9750 - 177ms/epoch - 2ms/step\n",
      "Epoch 42/100\n",
      "100/100 - 0s - loss: 0.0805 - accuracy: 0.9787 - val_loss: 0.0976 - val_accuracy: 0.9762 - 169ms/epoch - 2ms/step\n",
      "Epoch 43/100\n",
      "100/100 - 0s - loss: 0.0789 - accuracy: 0.9787 - val_loss: 0.0967 - val_accuracy: 0.9787 - 167ms/epoch - 2ms/step\n",
      "Epoch 44/100\n",
      "100/100 - 0s - loss: 0.0771 - accuracy: 0.9791 - val_loss: 0.0943 - val_accuracy: 0.9762 - 169ms/epoch - 2ms/step\n",
      "Epoch 45/100\n",
      "100/100 - 0s - loss: 0.0756 - accuracy: 0.9806 - val_loss: 0.0930 - val_accuracy: 0.9762 - 169ms/epoch - 2ms/step\n",
      "Epoch 46/100\n",
      "100/100 - 0s - loss: 0.0747 - accuracy: 0.9800 - val_loss: 0.0917 - val_accuracy: 0.9762 - 170ms/epoch - 2ms/step\n",
      "Epoch 47/100\n",
      "100/100 - 0s - loss: 0.0723 - accuracy: 0.9806 - val_loss: 0.0906 - val_accuracy: 0.9775 - 171ms/epoch - 2ms/step\n",
      "Epoch 48/100\n",
      "100/100 - 0s - loss: 0.0712 - accuracy: 0.9819 - val_loss: 0.0894 - val_accuracy: 0.9775 - 169ms/epoch - 2ms/step\n",
      "Epoch 49/100\n",
      "100/100 - 0s - loss: 0.0697 - accuracy: 0.9806 - val_loss: 0.0906 - val_accuracy: 0.9750 - 161ms/epoch - 2ms/step\n",
      "Epoch 50/100\n",
      "100/100 - 0s - loss: 0.0693 - accuracy: 0.9806 - val_loss: 0.0888 - val_accuracy: 0.9750 - 176ms/epoch - 2ms/step\n",
      "Epoch 51/100\n",
      "100/100 - 0s - loss: 0.0676 - accuracy: 0.9816 - val_loss: 0.0865 - val_accuracy: 0.9750 - 175ms/epoch - 2ms/step\n",
      "Epoch 52/100\n",
      "100/100 - 0s - loss: 0.0662 - accuracy: 0.9806 - val_loss: 0.0906 - val_accuracy: 0.9737 - 168ms/epoch - 2ms/step\n",
      "Epoch 53/100\n",
      "100/100 - 0s - loss: 0.0660 - accuracy: 0.9816 - val_loss: 0.0854 - val_accuracy: 0.9750 - 169ms/epoch - 2ms/step\n",
      "Epoch 54/100\n",
      "100/100 - 0s - loss: 0.0643 - accuracy: 0.9825 - val_loss: 0.0833 - val_accuracy: 0.9800 - 173ms/epoch - 2ms/step\n",
      "Epoch 55/100\n",
      "100/100 - 0s - loss: 0.0627 - accuracy: 0.9834 - val_loss: 0.0822 - val_accuracy: 0.9775 - 170ms/epoch - 2ms/step\n",
      "Epoch 56/100\n",
      "100/100 - 0s - loss: 0.0616 - accuracy: 0.9831 - val_loss: 0.0830 - val_accuracy: 0.9750 - 160ms/epoch - 2ms/step\n",
      "Epoch 57/100\n",
      "100/100 - 0s - loss: 0.0617 - accuracy: 0.9834 - val_loss: 0.0807 - val_accuracy: 0.9800 - 177ms/epoch - 2ms/step\n",
      "Epoch 58/100\n",
      "100/100 - 0s - loss: 0.0606 - accuracy: 0.9831 - val_loss: 0.0789 - val_accuracy: 0.9812 - 171ms/epoch - 2ms/step\n",
      "Epoch 59/100\n",
      "100/100 - 0s - loss: 0.0588 - accuracy: 0.9834 - val_loss: 0.0778 - val_accuracy: 0.9787 - 168ms/epoch - 2ms/step\n",
      "Epoch 60/100\n",
      "100/100 - 0s - loss: 0.0587 - accuracy: 0.9834 - val_loss: 0.0783 - val_accuracy: 0.9825 - 165ms/epoch - 2ms/step\n",
      "Epoch 61/100\n",
      "100/100 - 0s - loss: 0.0570 - accuracy: 0.9837 - val_loss: 0.0773 - val_accuracy: 0.9825 - 147ms/epoch - 1ms/step\n",
      "Epoch 62/100\n",
      "100/100 - 0s - loss: 0.0570 - accuracy: 0.9844 - val_loss: 0.0762 - val_accuracy: 0.9812 - 182ms/epoch - 2ms/step\n",
      "Epoch 63/100\n",
      "100/100 - 0s - loss: 0.0556 - accuracy: 0.9844 - val_loss: 0.0751 - val_accuracy: 0.9825 - 172ms/epoch - 2ms/step\n",
      "Epoch 64/100\n",
      "100/100 - 0s - loss: 0.0554 - accuracy: 0.9834 - val_loss: 0.0745 - val_accuracy: 0.9812 - 162ms/epoch - 2ms/step\n",
      "Epoch 65/100\n",
      "100/100 - 0s - loss: 0.0552 - accuracy: 0.9853 - val_loss: 0.0743 - val_accuracy: 0.9825 - 160ms/epoch - 2ms/step\n"
     ]
    },
    {
     "name": "stdout",
     "output_type": "stream",
     "text": [
      "Epoch 66/100\n",
      "100/100 - 0s - loss: 0.0535 - accuracy: 0.9856 - val_loss: 0.0753 - val_accuracy: 0.9850 - 170ms/epoch - 2ms/step\n",
      "Epoch 67/100\n",
      "100/100 - 0s - loss: 0.0533 - accuracy: 0.9853 - val_loss: 0.0728 - val_accuracy: 0.9825 - 156ms/epoch - 2ms/step\n",
      "Epoch 68/100\n",
      "100/100 - 0s - loss: 0.0527 - accuracy: 0.9841 - val_loss: 0.0767 - val_accuracy: 0.9850 - 181ms/epoch - 2ms/step\n",
      "Epoch 69/100\n",
      "100/100 - 0s - loss: 0.0526 - accuracy: 0.9856 - val_loss: 0.0726 - val_accuracy: 0.9850 - 171ms/epoch - 2ms/step\n",
      "Epoch 70/100\n",
      "100/100 - 0s - loss: 0.0520 - accuracy: 0.9859 - val_loss: 0.0714 - val_accuracy: 0.9825 - 157ms/epoch - 2ms/step\n",
      "Epoch 71/100\n",
      "100/100 - 0s - loss: 0.0517 - accuracy: 0.9859 - val_loss: 0.0700 - val_accuracy: 0.9825 - 165ms/epoch - 2ms/step\n",
      "Epoch 72/100\n",
      "100/100 - 0s - loss: 0.0502 - accuracy: 0.9862 - val_loss: 0.0688 - val_accuracy: 0.9837 - 152ms/epoch - 2ms/step\n",
      "Epoch 73/100\n",
      "100/100 - 0s - loss: 0.0491 - accuracy: 0.9859 - val_loss: 0.0702 - val_accuracy: 0.9812 - 162ms/epoch - 2ms/step\n",
      "Epoch 74/100\n",
      "100/100 - 0s - loss: 0.0493 - accuracy: 0.9869 - val_loss: 0.0684 - val_accuracy: 0.9812 - 169ms/epoch - 2ms/step\n",
      "Epoch 75/100\n",
      "100/100 - 0s - loss: 0.0513 - accuracy: 0.9847 - val_loss: 0.0679 - val_accuracy: 0.9837 - 170ms/epoch - 2ms/step\n",
      "Epoch 76/100\n",
      "100/100 - 0s - loss: 0.0476 - accuracy: 0.9866 - val_loss: 0.0688 - val_accuracy: 0.9862 - 167ms/epoch - 2ms/step\n",
      "Epoch 77/100\n",
      "100/100 - 0s - loss: 0.0480 - accuracy: 0.9862 - val_loss: 0.0670 - val_accuracy: 0.9837 - 168ms/epoch - 2ms/step\n",
      "Epoch 78/100\n",
      "100/100 - 0s - loss: 0.0470 - accuracy: 0.9862 - val_loss: 0.0665 - val_accuracy: 0.9875 - 180ms/epoch - 2ms/step\n",
      "Epoch 79/100\n",
      "100/100 - 0s - loss: 0.0473 - accuracy: 0.9859 - val_loss: 0.0691 - val_accuracy: 0.9887 - 163ms/epoch - 2ms/step\n",
      "Epoch 80/100\n",
      "100/100 - 0s - loss: 0.0459 - accuracy: 0.9875 - val_loss: 0.0648 - val_accuracy: 0.9862 - 170ms/epoch - 2ms/step\n",
      "Epoch 81/100\n",
      "100/100 - 0s - loss: 0.0457 - accuracy: 0.9862 - val_loss: 0.0636 - val_accuracy: 0.9850 - 180ms/epoch - 2ms/step\n",
      "Epoch 82/100\n",
      "100/100 - 0s - loss: 0.0458 - accuracy: 0.9872 - val_loss: 0.0630 - val_accuracy: 0.9862 - 167ms/epoch - 2ms/step\n",
      "Epoch 83/100\n",
      "100/100 - 0s - loss: 0.0449 - accuracy: 0.9869 - val_loss: 0.0625 - val_accuracy: 0.9850 - 162ms/epoch - 2ms/step\n",
      "Epoch 84/100\n",
      "100/100 - 0s - loss: 0.0443 - accuracy: 0.9869 - val_loss: 0.0648 - val_accuracy: 0.9875 - 171ms/epoch - 2ms/step\n",
      "Epoch 85/100\n",
      "100/100 - 0s - loss: 0.0444 - accuracy: 0.9869 - val_loss: 0.0627 - val_accuracy: 0.9850 - 165ms/epoch - 2ms/step\n",
      "Epoch 86/100\n",
      "100/100 - 0s - loss: 0.0437 - accuracy: 0.9875 - val_loss: 0.0611 - val_accuracy: 0.9862 - 191ms/epoch - 2ms/step\n",
      "Epoch 87/100\n",
      "100/100 - 0s - loss: 0.0438 - accuracy: 0.9869 - val_loss: 0.0608 - val_accuracy: 0.9862 - 171ms/epoch - 2ms/step\n",
      "Epoch 88/100\n",
      "100/100 - 0s - loss: 0.0435 - accuracy: 0.9866 - val_loss: 0.0607 - val_accuracy: 0.9875 - 162ms/epoch - 2ms/step\n",
      "Epoch 89/100\n",
      "100/100 - 0s - loss: 0.0427 - accuracy: 0.9881 - val_loss: 0.0652 - val_accuracy: 0.9912 - 167ms/epoch - 2ms/step\n",
      "Epoch 90/100\n",
      "100/100 - 0s - loss: 0.0426 - accuracy: 0.9866 - val_loss: 0.0596 - val_accuracy: 0.9862 - 162ms/epoch - 2ms/step\n",
      "Epoch 91/100\n",
      "100/100 - 0s - loss: 0.0422 - accuracy: 0.9872 - val_loss: 0.0605 - val_accuracy: 0.9875 - 158ms/epoch - 2ms/step\n",
      "Epoch 92/100\n",
      "100/100 - 0s - loss: 0.0423 - accuracy: 0.9872 - val_loss: 0.0595 - val_accuracy: 0.9875 - 157ms/epoch - 2ms/step\n",
      "Epoch 93/100\n",
      "100/100 - 0s - loss: 0.0415 - accuracy: 0.9872 - val_loss: 0.0583 - val_accuracy: 0.9875 - 162ms/epoch - 2ms/step\n",
      "Epoch 94/100\n",
      "100/100 - 0s - loss: 0.0411 - accuracy: 0.9869 - val_loss: 0.0584 - val_accuracy: 0.9862 - 163ms/epoch - 2ms/step\n",
      "Epoch 95/100\n",
      "100/100 - 0s - loss: 0.0410 - accuracy: 0.9869 - val_loss: 0.0588 - val_accuracy: 0.9875 - 158ms/epoch - 2ms/step\n",
      "Epoch 96/100\n",
      "100/100 - 0s - loss: 0.0413 - accuracy: 0.9872 - val_loss: 0.0578 - val_accuracy: 0.9875 - 167ms/epoch - 2ms/step\n",
      "Epoch 97/100\n",
      "100/100 - 0s - loss: 0.0397 - accuracy: 0.9881 - val_loss: 0.0586 - val_accuracy: 0.9900 - 153ms/epoch - 2ms/step\n",
      "Epoch 98/100\n",
      "100/100 - 0s - loss: 0.0397 - accuracy: 0.9887 - val_loss: 0.0571 - val_accuracy: 0.9862 - 172ms/epoch - 2ms/step\n",
      "Epoch 99/100\n",
      "100/100 - 0s - loss: 0.0401 - accuracy: 0.9884 - val_loss: 0.0563 - val_accuracy: 0.9875 - 172ms/epoch - 2ms/step\n",
      "Epoch 100/100\n",
      "100/100 - 0s - loss: 0.0398 - accuracy: 0.9884 - val_loss: 0.0583 - val_accuracy: 0.9912 - 170ms/epoch - 2ms/step\n"
     ]
    }
   ],
   "source": [
    "history = model.fit(train_data,train_labels,epochs = 100, validation_split = 0.2, verbose = 2, callbacks = callbacks)"
   ]
  },
  {
   "cell_type": "code",
   "execution_count": 13,
   "metadata": {},
   "outputs": [
    {
     "data": {
      "image/png": "[encoded data removed]",
      "text/plain": [
       "<Figure size 640x480 with 1 Axes>"
      ]
     },
     "metadata": {},
     "output_type": "display_data"
    },
    {
     "data": {
      "image/png": "[encoded data removed]",
      "text/plain": [
       "<Figure size 640x480 with 1 Axes>"
      ]
     },
     "metadata": {},
     "output_type": "display_data"
    }
   ],
   "source": [
    "import matplotlib.pyplot as plt\n",
    "train_loss = history.history['loss']\n",
    "val_loss = history.history['val_loss']\n",
    "train_acc = history.history['accuracy']\n",
    "val_acc = history.history['val_accuracy']\n",
    "epochs = np.arange(1,len(train_loss)+1)\n",
    "plt.figure()\n",
    "plt.plot(epochs, train_loss, label = \"Training Loss\")\n",
    "plt.plot(epochs, val_loss, label = \"Validation Loss\")\n",
    "plt.legend()\n",
    "plt.title(\"Comparision of Loss\")\n",
    "plt.show()\n",
    "plt.figure()\n",
    "plt.plot(epochs, train_acc, label = \"Training Accuracy\")\n",
    "plt.plot(epochs, val_acc, label = \"Validation Accuracy\")\n",
    "plt.title(\"Comparison of Accuracy\")\n",
    "plt.legend()\n",
    "plt.show()"
   ]
  },
  {
   "cell_type": "code",
   "execution_count": 14,
   "metadata": {},
   "outputs": [
    {
     "name": "stdout",
     "output_type": "stream",
     "text": [
      "50/50 [==============================] - 0s 1ms/step - loss: 0.0320 - accuracy: 0.9944\n",
      "0.9943749904632568\n"
     ]
    }
   ],
   "source": [
    "test_loss,test_acc = model.evaluate(test_data, test_labels)\n",
    "print(test_acc)"
   ]
  },
  {
   "cell_type": "code",
   "execution_count": 15,
   "metadata": {},
   "outputs": [
    {
     "name": "stdout",
     "output_type": "stream",
     "text": [
      "50/50 [==============================] - 0s 1ms/step\n"
     ]
    }
   ],
   "source": [
    "prediction = model.predict(test_data)\n",
    "prediction_labels = list([])\n",
    "for each_prediction in prediction:\n",
    "    prediction_labels.append(list(each_prediction).index(max(each_prediction)))\n",
    "    "
   ]
  },
  {
   "cell_type": "code",
   "execution_count": 16,
   "metadata": {},
   "outputs": [],
   "source": [
    "from sklearn.metrics import confusion_matrix\n",
    "true_labels = np.argmax(test_labels, axis = 1)\n",
    "matrix = confusion_matrix(true_labels, prediction_labels)"
   ]
  },
  {
   "cell_type": "code",
   "execution_count": 17,
   "metadata": {},
   "outputs": [
    {
     "data": {
      "text/plain": [
       "(array([0.5, 1.5, 2.5, 3.5]),\n",
       " [Text(0.5, 0, 'Normal'),\n",
       "  Text(1.5, 0, 'ball'),\n",
       "  Text(2.5, 0, 'inner'),\n",
       "  Text(3.5, 0, 'outer')])"
      ]
     },
     "execution_count": 17,
     "metadata": {},
     "output_type": "execute_result"
    },
    {
     "data": {
      "image/png": "[encoded data removed]",
      "text/plain": [
       "<Figure size 640x480 with 2 Axes>"
      ]
     },
     "metadata": {},
     "output_type": "display_data"
    }
   ],
   "source": [
    "import seaborn as sns\n",
    "matrix = pd.DataFrame(matrix)\n",
    "sns.heatmap(matrix, annot= True, fmt = \"d\",\n",
    "           xticklabels = category_labels,\n",
    "           yticklabels = category_labels)\n",
    "plt.xticks(rotation = 90)"
   ]
  },
  {
   "cell_type": "code",
   "execution_count": null,
   "metadata": {},
   "outputs": [],
   "source": []
  }
 ],
 "metadata": {
  "kernelspec": {
   "display_name": "Python 3 (ipykernel)",
   "language": "python",
   "name": "python3"
  },
  "language_info": {
   "codemirror_mode": {
    "name": "ipython",
    "version": 3
   },
   "file_extension": ".py",
   "mimetype": "text/x-python",
   "name": "python",
   "nbconvert_exporter": "python",
   "pygments_lexer": "ipython3",
   "version": "3.9.13"
  },
  "varInspector": {
   "cols": {
    "lenName": 16,
    "lenType": 16,
    "lenVar": 40
   },
   "kernels_config": {
    "python": {
     "delete_cmd_postfix": "",
     "delete_cmd_prefix": "del ",
     "library": "var_list.py",
     "varRefreshCmd": "print(var_dic_list())"
    },
    "r": {
     "delete_cmd_postfix": ") ",
     "delete_cmd_prefix": "rm(",
     "library": "var_list.r",
     "varRefreshCmd": "cat(var_dic_list()) "
    }
   },
   "types_to_exclude": [
    "module",
    "function",
    "builtin_function_or_method",
    "instance",
    "_Feature"
   ],
   "window_display": false
  }
 },
 "nbformat": 4,
 "nbformat_minor": 2
}
