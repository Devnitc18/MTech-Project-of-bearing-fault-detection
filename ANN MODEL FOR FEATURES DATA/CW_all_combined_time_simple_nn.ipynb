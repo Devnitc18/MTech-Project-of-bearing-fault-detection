{
 "cells": [
  {
   "cell_type": "code",
   "execution_count": 1,
   "metadata": {},
   "outputs": [],
   "source": [
    "import pandas as pd\n",
    "import glob "
   ]
  },
  {
   "cell_type": "code",
   "execution_count": 2,
   "metadata": {},
   "outputs": [
    {
     "name": "stdout",
     "output_type": "stream",
     "text": [
      "['C:/Users/Dev/Documents/cbm_codes_open-master/featurematrix2\\\\feature_matrix_time_1024_ball.csv', 'C:/Users/Dev/Documents/cbm_codes_open-master/featurematrix2\\\\feature_matrix_time_1024_inner.csv', 'C:/Users/Dev/Documents/cbm_codes_open-master/featurematrix2\\\\feature_matrix_time_1024_outer_6.csv']\n"
     ]
    }
   ],
   "source": [
    "paths = glob.glob(\"C:/Users/Dev/Documents/cbm_codes_open-master/featurematrix2/feature_matrix_time_1024*.csv\")\n",
    "print(paths)"
   ]
  },
  {
   "cell_type": "code",
   "execution_count": 3,
   "metadata": {},
   "outputs": [
    {
     "name": "stderr",
     "output_type": "stream",
     "text": [
      "C:\\Users\\Dev\\AppData\\Local\\Temp\\ipykernel_3168\\4270435050.py:6: FutureWarning: The frame.append method is deprecated and will be removed from pandas in a future version. Use pandas.concat instead.\n",
      "  data_all = df1.append(df2[1657:], ignore_index = True)\n",
      "C:\\Users\\Dev\\AppData\\Local\\Temp\\ipykernel_3168\\4270435050.py:9: FutureWarning: The frame.append method is deprecated and will be removed from pandas in a future version. Use pandas.concat instead.\n",
      "  data_all = data_all.append(df3[1657:], ignore_index = True)\n"
     ]
    },
    {
     "data": {
      "text/plain": [
       "ball      1894\n",
       "inner     1893\n",
       "Normal    1657\n",
       "outer     1425\n",
       "Name: fault_type, dtype: int64"
      ]
     },
     "execution_count": 3,
     "metadata": {},
     "output_type": "execute_result"
    }
   ],
   "source": [
    "df1 = pd.read_csv(paths[0])\n",
    "df1.loc[1657:,'fault_type'] = \"ball\"\n",
    "# df1['fault_type'].value_counts()\n",
    "df2 = pd.read_csv(paths[1])\n",
    "df2.loc[1657:,'fault_type'] = 'inner'\n",
    "data_all = df1.append(df2[1657:], ignore_index = True)\n",
    "df3 = pd.read_csv(paths[2])\n",
    "df3.loc[1657:,'fault_type'] = 'outer'\n",
    "data_all = data_all.append(df3[1657:], ignore_index = True)\n",
    "del [df1, df2, df3]\n",
    "data_all['fault_type'].value_counts()"
   ]
  },
  {
   "cell_type": "code",
   "execution_count": 4,
   "metadata": {},
   "outputs": [],
   "source": [
    "import numpy as np\n",
    "from numpy.random import choice \n",
    "np.random.seed(1)\n",
    "index = np.array([choice(np.arange(0,1657),1400,replace = False),\n",
    "                choice(np.arange(1657,3551),1400,replace = False),\n",
    "                choice(np.arange(3551,5444),1400,replace = False),\n",
    "                choice(np.arange(5444,6869),1400,replace = False)])\n",
    "index = index.ravel()\n",
    "data = data_all.iloc[index,]\n",
    "data = data.reset_index(drop = True)\n",
    "test_index = np.array([choice(np.arange(0,1400),400, replace = False),\n",
    "                     choice(np.arange(1400,2*1400),400, replace = False),\n",
    "                     choice(np.arange(2*1400,3*1400),400, replace = False),\n",
    "                     choice(np.arange(3*1400,4*1400),400, replace = False)])\n",
    "\n",
    "test_index = test_index.ravel()\n",
    "test_data = data.iloc[test_index,]\n",
    "train_data = data.drop(data.index[test_index])\n",
    "\n",
    "# Shuffle data\n",
    "train_data = train_data.sample(frac = 1, random_state = 2)\n",
    "test_data = test_data.sample(frac = 1, random_state = 3)\n",
    "\n",
    "# Convert categorical lables to numberic entries\n",
    "\n",
    "category_labels = ['Normal', 'ball', 'inner','outer']\n",
    "# test_labels = test_data['fault_type']\n",
    "test_labels = pd.Categorical(test_data['fault_type'],categories= category_labels).codes # Produces ndarrays\n",
    "# train_labels = train_data['fault_type']\n",
    "train_labels = pd.Categorical(train_data['fault_type'], categories = category_labels).codes"
   ]
  },
  {
   "cell_type": "code",
   "execution_count": 5,
   "metadata": {},
   "outputs": [
    {
     "name": "stdout",
     "output_type": "stream",
     "text": [
      "(5600, 10) (1600, 10) (4000, 10) (1600,) (4000,)\n"
     ]
    }
   ],
   "source": [
    "print(data.shape,test_data.shape,train_data.shape,test_labels.shape,train_labels.shape)"
   ]
  },
  {
   "cell_type": "code",
   "execution_count": 6,
   "metadata": {},
   "outputs": [],
   "source": [
    "import tensorflow as tf\n",
    "from tensorflow import keras\n",
    "from tensorflow.keras.models import Sequential\n",
    "from tensorflow.keras import layers\n",
    "from tensorflow.keras.utils import to_categorical\n",
    "from tensorflow.keras.callbacks import EarlyStopping\n",
    "import sklearn\n",
    "from sklearn import preprocessing"
   ]
  },
  {
   "cell_type": "code",
   "execution_count": 7,
   "metadata": {},
   "outputs": [],
   "source": [
    "# Convert labels to categorical data\n",
    "train_data = train_data.iloc[:,0:9]\n",
    "test_data = test_data.iloc[:,0:9]\n",
    "# Scale the data\n",
    "train_data = preprocessing.scale(train_data)\n",
    "test_data = preprocessing.scale(test_data)\n",
    "train_labels = to_categorical(train_labels)\n",
    "test_labels = to_categorical(test_labels)"
   ]
  },
  {
   "cell_type": "code",
   "execution_count": 8,
   "metadata": {},
   "outputs": [
    {
     "name": "stdout",
     "output_type": "stream",
     "text": [
      "(4000, 9) (1600, 9) (4000, 4) (1600, 4)\n"
     ]
    }
   ],
   "source": [
    "print(train_data.shape, test_data.shape, train_labels.shape, test_labels.shape)"
   ]
  },
  {
   "cell_type": "code",
   "execution_count": 9,
   "metadata": {},
   "outputs": [
    {
     "name": "stdout",
     "output_type": "stream",
     "text": [
      "Model: \"sequential\"\n",
      "_________________________________________________________________\n",
      " Layer (type)                Output Shape              Param #   \n",
      "=================================================================\n",
      " dense (Dense)               (None, 5)                 50        \n",
      "                                                                 \n",
      " dense_1 (Dense)             (None, 5)                 30        \n",
      "                                                                 \n",
      " dense_2 (Dense)             (None, 5)                 30        \n",
      "                                                                 \n",
      " dense_3 (Dense)             (None, 4)                 24        \n",
      "                                                                 \n",
      "=================================================================\n",
      "Total params: 134\n",
      "Trainable params: 134\n",
      "Non-trainable params: 0\n",
      "_________________________________________________________________\n"
     ]
    }
   ],
   "source": [
    "model = Sequential([\n",
    "    layers.Dense(5,activation = 'relu', input_dim = 9),\n",
    "#     layers.Dropout(0.2),\n",
    "    layers.Dense(5,activation = 'relu'),\n",
    "    layers.Dense(5,activation = 'relu'),\n",
    "    layers.Dense(4,activation = 'softmax')\n",
    "])\n",
    "model.summary()"
   ]
  },
  {
   "cell_type": "code",
   "execution_count": 10,
   "metadata": {},
   "outputs": [],
   "source": [
    "model.compile(optimizer = 'adam',loss = 'categorical_crossentropy', metrics = ['accuracy'])"
   ]
  },
  {
   "cell_type": "code",
   "execution_count": 11,
   "metadata": {},
   "outputs": [],
   "source": [
    "callbacks = [EarlyStopping(monitor = 'val_loss', mode = 'min', verbose = 1, patience = 5)]"
   ]
  },
  {
   "cell_type": "code",
   "execution_count": null,
   "metadata": {},
   "outputs": [
    {
     "name": "stdout",
     "output_type": "stream",
     "text": [
      "Epoch 1/100\n",
      "100/100 - 1s - loss: 1.3213 - accuracy: 0.3856 - val_loss: 1.2424 - val_accuracy: 0.4588 - 749ms/epoch - 7ms/step\n",
      "Epoch 2/100\n",
      "100/100 - 0s - loss: 1.1888 - accuracy: 0.4719 - val_loss: 1.1166 - val_accuracy: 0.5038 - 104ms/epoch - 1ms/step\n",
      "Epoch 3/100\n",
      "100/100 - 0s - loss: 1.0619 - accuracy: 0.5244 - val_loss: 0.9859 - val_accuracy: 0.5750 - 103ms/epoch - 1ms/step\n",
      "Epoch 4/100\n",
      "100/100 - 0s - loss: 0.9485 - accuracy: 0.5759 - val_loss: 0.8893 - val_accuracy: 0.6162 - 109ms/epoch - 1ms/step\n",
      "Epoch 5/100\n",
      "100/100 - 0s - loss: 0.8699 - accuracy: 0.6194 - val_loss: 0.8212 - val_accuracy: 0.6600 - 109ms/epoch - 1ms/step\n",
      "Epoch 6/100\n",
      "100/100 - 0s - loss: 0.8107 - accuracy: 0.6594 - val_loss: 0.7649 - val_accuracy: 0.6925 - 125ms/epoch - 1ms/step\n",
      "Epoch 7/100\n",
      "100/100 - 0s - loss: 0.7575 - accuracy: 0.7078 - val_loss: 0.7152 - val_accuracy: 0.7225 - 104ms/epoch - 1ms/step\n",
      "Epoch 8/100\n",
      "100/100 - 0s - loss: 0.7093 - accuracy: 0.7281 - val_loss: 0.6675 - val_accuracy: 0.7713 - 104ms/epoch - 1ms/step\n",
      "Epoch 9/100\n",
      "100/100 - 0s - loss: 0.6585 - accuracy: 0.7584 - val_loss: 0.6134 - val_accuracy: 0.7625 - 102ms/epoch - 1ms/step\n",
      "Epoch 10/100\n",
      "100/100 - 0s - loss: 0.6064 - accuracy: 0.7628 - val_loss: 0.5753 - val_accuracy: 0.7875 - 104ms/epoch - 1ms/step\n",
      "Epoch 11/100\n",
      "100/100 - 0s - loss: 0.5737 - accuracy: 0.7862 - val_loss: 0.5466 - val_accuracy: 0.7925 - 105ms/epoch - 1ms/step\n",
      "Epoch 12/100\n",
      "100/100 - 0s - loss: 0.5432 - accuracy: 0.7969 - val_loss: 0.5153 - val_accuracy: 0.8100 - 109ms/epoch - 1ms/step\n",
      "Epoch 13/100\n",
      "100/100 - 0s - loss: 0.5124 - accuracy: 0.8125 - val_loss: 0.4883 - val_accuracy: 0.8375 - 106ms/epoch - 1ms/step\n",
      "Epoch 14/100\n",
      "100/100 - 0s - loss: 0.4823 - accuracy: 0.8316 - val_loss: 0.4611 - val_accuracy: 0.8537 - 104ms/epoch - 1ms/step\n",
      "Epoch 15/100\n",
      "100/100 - 0s - loss: 0.4573 - accuracy: 0.8422 - val_loss: 0.4364 - val_accuracy: 0.8637 - 104ms/epoch - 1ms/step\n",
      "Epoch 16/100\n",
      "100/100 - 0s - loss: 0.4363 - accuracy: 0.8497 - val_loss: 0.4192 - val_accuracy: 0.8712 - 104ms/epoch - 1ms/step\n",
      "Epoch 17/100\n",
      "100/100 - 0s - loss: 0.4199 - accuracy: 0.8553 - val_loss: 0.4011 - val_accuracy: 0.8750 - 106ms/epoch - 1ms/step\n",
      "Epoch 18/100\n",
      "100/100 - 0s - loss: 0.4049 - accuracy: 0.8631 - val_loss: 0.3845 - val_accuracy: 0.8825 - 105ms/epoch - 1ms/step\n",
      "Epoch 19/100\n",
      "100/100 - 0s - loss: 0.3911 - accuracy: 0.8672 - val_loss: 0.3740 - val_accuracy: 0.8850 - 104ms/epoch - 1ms/step\n",
      "Epoch 20/100\n",
      "100/100 - 0s - loss: 0.3812 - accuracy: 0.8691 - val_loss: 0.3671 - val_accuracy: 0.8838 - 106ms/epoch - 1ms/step\n",
      "Epoch 21/100\n",
      "100/100 - 0s - loss: 0.3719 - accuracy: 0.8722 - val_loss: 0.3552 - val_accuracy: 0.8913 - 115ms/epoch - 1ms/step\n",
      "Epoch 22/100\n",
      "100/100 - 0s - loss: 0.3634 - accuracy: 0.8728 - val_loss: 0.3462 - val_accuracy: 0.8938 - 103ms/epoch - 1ms/step\n",
      "Epoch 23/100\n",
      "100/100 - 0s - loss: 0.3555 - accuracy: 0.8763 - val_loss: 0.3404 - val_accuracy: 0.8938 - 109ms/epoch - 1ms/step\n",
      "Epoch 24/100\n",
      "100/100 - 0s - loss: 0.3480 - accuracy: 0.8784 - val_loss: 0.3324 - val_accuracy: 0.8963 - 104ms/epoch - 1ms/step\n",
      "Epoch 25/100\n",
      "100/100 - 0s - loss: 0.3414 - accuracy: 0.8781 - val_loss: 0.3276 - val_accuracy: 0.8975 - 106ms/epoch - 1ms/step\n",
      "Epoch 26/100\n",
      "100/100 - 0s - loss: 0.3342 - accuracy: 0.8806 - val_loss: 0.3219 - val_accuracy: 0.8975 - 111ms/epoch - 1ms/step\n",
      "Epoch 27/100\n",
      "100/100 - 0s - loss: 0.3274 - accuracy: 0.8803 - val_loss: 0.3187 - val_accuracy: 0.8975 - 106ms/epoch - 1ms/step\n",
      "Epoch 28/100\n",
      "100/100 - 0s - loss: 0.3210 - accuracy: 0.8844 - val_loss: 0.3094 - val_accuracy: 0.9000 - 103ms/epoch - 1ms/step\n",
      "Epoch 29/100\n",
      "100/100 - 0s - loss: 0.3149 - accuracy: 0.8825 - val_loss: 0.3051 - val_accuracy: 0.9000 - 106ms/epoch - 1ms/step\n",
      "Epoch 30/100\n",
      "100/100 - 0s - loss: 0.3076 - accuracy: 0.8847 - val_loss: 0.2996 - val_accuracy: 0.9013 - 103ms/epoch - 1ms/step\n",
      "Epoch 31/100\n",
      "100/100 - 0s - loss: 0.3022 - accuracy: 0.8891 - val_loss: 0.2938 - val_accuracy: 0.8988 - 107ms/epoch - 1ms/step\n",
      "Epoch 32/100\n",
      "100/100 - 0s - loss: 0.2954 - accuracy: 0.8878 - val_loss: 0.2881 - val_accuracy: 0.9000 - 102ms/epoch - 1ms/step\n",
      "Epoch 33/100\n",
      "100/100 - 0s - loss: 0.2898 - accuracy: 0.8900 - val_loss: 0.2816 - val_accuracy: 0.9050 - 109ms/epoch - 1ms/step\n",
      "Epoch 34/100\n",
      "100/100 - 0s - loss: 0.2841 - accuracy: 0.8909 - val_loss: 0.2782 - val_accuracy: 0.9062 - 106ms/epoch - 1ms/step\n",
      "Epoch 35/100\n",
      "100/100 - 0s - loss: 0.2784 - accuracy: 0.8950 - val_loss: 0.2730 - val_accuracy: 0.9062 - 101ms/epoch - 1ms/step\n",
      "Epoch 36/100\n",
      "100/100 - 0s - loss: 0.2755 - accuracy: 0.8956 - val_loss: 0.2692 - val_accuracy: 0.9075 - 102ms/epoch - 1ms/step\n",
      "Epoch 37/100\n",
      "100/100 - 0s - loss: 0.2719 - accuracy: 0.8944 - val_loss: 0.2660 - val_accuracy: 0.9087 - 105ms/epoch - 1ms/step\n",
      "Epoch 38/100\n",
      "100/100 - 0s - loss: 0.2661 - accuracy: 0.8994 - val_loss: 0.2623 - val_accuracy: 0.9100 - 109ms/epoch - 1ms/step\n",
      "Epoch 39/100\n",
      "100/100 - 0s - loss: 0.2653 - accuracy: 0.8975 - val_loss: 0.2569 - val_accuracy: 0.9112 - 107ms/epoch - 1ms/step\n",
      "Epoch 40/100\n",
      "100/100 - 0s - loss: 0.2607 - accuracy: 0.9006 - val_loss: 0.2544 - val_accuracy: 0.9112 - 106ms/epoch - 1ms/step\n",
      "Epoch 41/100\n",
      "100/100 - 0s - loss: 0.2574 - accuracy: 0.9000 - val_loss: 0.2556 - val_accuracy: 0.9112 - 109ms/epoch - 1ms/step\n",
      "Epoch 42/100\n",
      "100/100 - 0s - loss: 0.2540 - accuracy: 0.9013 - val_loss: 0.2487 - val_accuracy: 0.9125 - 103ms/epoch - 1ms/step\n",
      "Epoch 43/100\n",
      "100/100 - 0s - loss: 0.2508 - accuracy: 0.9009 - val_loss: 0.2483 - val_accuracy: 0.9125 - 102ms/epoch - 1ms/step\n",
      "Epoch 44/100\n",
      "100/100 - 0s - loss: 0.2488 - accuracy: 0.9025 - val_loss: 0.2455 - val_accuracy: 0.9137 - 106ms/epoch - 1ms/step\n",
      "Epoch 45/100\n",
      "100/100 - 0s - loss: 0.2467 - accuracy: 0.9034 - val_loss: 0.2397 - val_accuracy: 0.9137 - 105ms/epoch - 1ms/step\n",
      "Epoch 46/100\n",
      "100/100 - 0s - loss: 0.2440 - accuracy: 0.9044 - val_loss: 0.2395 - val_accuracy: 0.9137 - 107ms/epoch - 1ms/step\n",
      "Epoch 47/100\n",
      "100/100 - 0s - loss: 0.2415 - accuracy: 0.9022 - val_loss: 0.2358 - val_accuracy: 0.9137 - 105ms/epoch - 1ms/step\n",
      "Epoch 48/100\n",
      "100/100 - 0s - loss: 0.2378 - accuracy: 0.9044 - val_loss: 0.2329 - val_accuracy: 0.9150 - 101ms/epoch - 1ms/step\n",
      "Epoch 49/100\n",
      "100/100 - 0s - loss: 0.2355 - accuracy: 0.9044 - val_loss: 0.2301 - val_accuracy: 0.9137 - 105ms/epoch - 1ms/step\n",
      "Epoch 50/100\n",
      "100/100 - 0s - loss: 0.2337 - accuracy: 0.9050 - val_loss: 0.2278 - val_accuracy: 0.9137 - 102ms/epoch - 1ms/step\n",
      "Epoch 51/100\n",
      "100/100 - 0s - loss: 0.2305 - accuracy: 0.9050 - val_loss: 0.2279 - val_accuracy: 0.9162 - 102ms/epoch - 1ms/step\n",
      "Epoch 52/100\n",
      "100/100 - 0s - loss: 0.2286 - accuracy: 0.9041 - val_loss: 0.2245 - val_accuracy: 0.9175 - 102ms/epoch - 1ms/step\n",
      "Epoch 53/100\n",
      "100/100 - 0s - loss: 0.2255 - accuracy: 0.9041 - val_loss: 0.2231 - val_accuracy: 0.9175 - 106ms/epoch - 1ms/step\n",
      "Epoch 54/100\n",
      "100/100 - 0s - loss: 0.2233 - accuracy: 0.9044 - val_loss: 0.2195 - val_accuracy: 0.9137 - 108ms/epoch - 1ms/step\n",
      "Epoch 55/100\n",
      "100/100 - 0s - loss: 0.2201 - accuracy: 0.9044 - val_loss: 0.2192 - val_accuracy: 0.9125 - 102ms/epoch - 1ms/step\n",
      "Epoch 56/100\n",
      "100/100 - 0s - loss: 0.2187 - accuracy: 0.9028 - val_loss: 0.2158 - val_accuracy: 0.9150 - 105ms/epoch - 1ms/step\n",
      "Epoch 57/100\n",
      "100/100 - 0s - loss: 0.2156 - accuracy: 0.9050 - val_loss: 0.2134 - val_accuracy: 0.9150 - 101ms/epoch - 1ms/step\n",
      "Epoch 58/100\n",
      "100/100 - 0s - loss: 0.2136 - accuracy: 0.9056 - val_loss: 0.2111 - val_accuracy: 0.9137 - 100ms/epoch - 1ms/step\n",
      "Epoch 59/100\n",
      "100/100 - 0s - loss: 0.2113 - accuracy: 0.9056 - val_loss: 0.2118 - val_accuracy: 0.9137 - 105ms/epoch - 1ms/step\n",
      "Epoch 60/100\n",
      "100/100 - 0s - loss: 0.2103 - accuracy: 0.9038 - val_loss: 0.2077 - val_accuracy: 0.9125 - 106ms/epoch - 1ms/step\n",
      "Epoch 61/100\n",
      "100/100 - 0s - loss: 0.2063 - accuracy: 0.9053 - val_loss: 0.2085 - val_accuracy: 0.9125 - 119ms/epoch - 1ms/step\n",
      "Epoch 62/100\n",
      "100/100 - 0s - loss: 0.2044 - accuracy: 0.9050 - val_loss: 0.2046 - val_accuracy: 0.9150 - 103ms/epoch - 1ms/step\n",
      "Epoch 63/100\n",
      "100/100 - 0s - loss: 0.2023 - accuracy: 0.9081 - val_loss: 0.2021 - val_accuracy: 0.9150 - 104ms/epoch - 1ms/step\n",
      "Epoch 64/100\n",
      "100/100 - 0s - loss: 0.2002 - accuracy: 0.9062 - val_loss: 0.2010 - val_accuracy: 0.9150 - 106ms/epoch - 1ms/step\n",
      "Epoch 65/100\n",
      "100/100 - 0s - loss: 0.1976 - accuracy: 0.9081 - val_loss: 0.1992 - val_accuracy: 0.9162 - 104ms/epoch - 1ms/step\n"
     ]
    },
    {
     "name": "stdout",
     "output_type": "stream",
     "text": [
      "Epoch 66/100\n",
      "100/100 - 0s - loss: 0.1964 - accuracy: 0.9075 - val_loss: 0.1978 - val_accuracy: 0.9225 - 103ms/epoch - 1ms/step\n",
      "Epoch 67/100\n",
      "100/100 - 0s - loss: 0.1937 - accuracy: 0.9119 - val_loss: 0.1938 - val_accuracy: 0.9150 - 104ms/epoch - 1ms/step\n",
      "Epoch 68/100\n",
      "100/100 - 0s - loss: 0.1924 - accuracy: 0.9122 - val_loss: 0.1934 - val_accuracy: 0.9175 - 108ms/epoch - 1ms/step\n",
      "Epoch 69/100\n",
      "100/100 - 0s - loss: 0.1897 - accuracy: 0.9106 - val_loss: 0.1911 - val_accuracy: 0.9200 - 105ms/epoch - 1ms/step\n",
      "Epoch 70/100\n",
      "100/100 - 0s - loss: 0.1881 - accuracy: 0.9147 - val_loss: 0.1904 - val_accuracy: 0.9212 - 105ms/epoch - 1ms/step\n",
      "Epoch 71/100\n",
      "100/100 - 0s - loss: 0.1859 - accuracy: 0.9162 - val_loss: 0.1892 - val_accuracy: 0.9250 - 108ms/epoch - 1ms/step\n",
      "Epoch 72/100\n",
      "100/100 - 0s - loss: 0.1839 - accuracy: 0.9187 - val_loss: 0.1848 - val_accuracy: 0.9237 - 106ms/epoch - 1ms/step\n",
      "Epoch 73/100\n",
      "100/100 - 0s - loss: 0.1818 - accuracy: 0.9175 - val_loss: 0.1827 - val_accuracy: 0.9262 - 102ms/epoch - 1ms/step\n",
      "Epoch 74/100\n",
      "100/100 - 0s - loss: 0.1800 - accuracy: 0.9241 - val_loss: 0.1825 - val_accuracy: 0.9275 - 109ms/epoch - 1ms/step\n",
      "Epoch 75/100\n"
     ]
    }
   ],
   "source": [
    "history = model.fit(train_data,train_labels,epochs = 100, validation_split = 0.2, verbose = 2, callbacks = callbacks)"
   ]
  },
  {
   "cell_type": "code",
   "execution_count": 22,
   "metadata": {},
   "outputs": [
    {
     "data": {
      "image/png": "[encoded data removed]",
      "text/plain": [
       "<Figure size 432x288 with 1 Axes>"
      ]
     },
     "metadata": {
      "needs_background": "light"
     },
     "output_type": "display_data"
    },
    {
     "data": {
      "image/png": "[encoded data removed]",
      "text/plain": [
       "<Figure size 432x288 with 1 Axes>"
      ]
     },
     "metadata": {
      "needs_background": "light"
     },
     "output_type": "display_data"
    }
   ],
   "source": [
    "import matplotlib.pyplot as plt\n",
    "train_loss = history.history['loss']\n",
    "val_loss = history.history['val_loss']\n",
    "train_acc = history.history['accuracy']\n",
    "val_acc = history.history['val_accuracy']\n",
    "epochs = np.arange(1,len(train_loss)+1)\n",
    "\n",
    "plt.figure()\n",
    "plt.plot(epochs, train_loss, label = \"Training Loss\")\n",
    "plt.plot(epochs, val_loss, label = \"Validation Loss\")\n",
    "plt.legend()\n",
    "plt.title(\"Comparision of Loss\")\n",
    "plt.show()\n",
    "\n",
    "plt.figure()\n",
    "plt.plot(epochs, train_acc, label = \"Training Accuracy\")\n",
    "plt.plot(epochs, val_acc, label = \"Validation Accuracy\")\n",
    "plt.title(\"Comparison of Accuracy\")\n",
    "plt.legend()\n",
    "plt.show()"
   ]
  },
  {
   "cell_type": "code",
   "execution_count": 23,
   "metadata": {},
   "outputs": [
    {
     "name": "stdout",
     "output_type": "stream",
     "text": [
      "1600/1600 [==============================] - 0s 31us/sample - loss: 0.2974 - accuracy: 0.9000\n",
      "0.9\n"
     ]
    }
   ],
   "source": [
    "test_loss,test_acc = model.evaluate(test_data, test_labels)\n",
    "print(test_acc)"
   ]
  },
  {
   "cell_type": "code",
   "execution_count": 24,
   "metadata": {},
   "outputs": [],
   "source": [
    "prediction = model.predict(test_data)\n",
    "prediction_labels = list([])\n",
    "for each_prediction in prediction:\n",
    "    prediction_labels.append(list(each_prediction).index(max(each_prediction)))\n",
    "    "
   ]
  },
  {
   "cell_type": "code",
   "execution_count": 25,
   "metadata": {},
   "outputs": [],
   "source": [
    "from sklearn.metrics import confusion_matrix\n",
    "true_labels = np.argmax(test_labels, axis = 1)\n",
    "matrix = confusion_matrix(true_labels, prediction_labels)"
   ]
  },
  {
   "cell_type": "code",
   "execution_count": 26,
   "metadata": {},
   "outputs": [
    {
     "data": {
      "text/plain": [
       "(array([0.5, 1.5, 2.5, 3.5]), <a list of 4 Text xticklabel objects>)"
      ]
     },
     "execution_count": 26,
     "metadata": {},
     "output_type": "execute_result"
    },
    {
     "data": {
      "image/png": "[encoded data removed]",
      "text/plain": [
       "<Figure size 432x288 with 2 Axes>"
      ]
     },
     "metadata": {
      "needs_background": "light"
     },
     "output_type": "display_data"
    }
   ],
   "source": [
    "import seaborn as sns\n",
    "matrix = pd.DataFrame(matrix)\n",
    "sns.heatmap(matrix, annot= True, fmt = \"d\",\n",
    "           xticklabels = category_labels,\n",
    "           yticklabels = category_labels)\n",
    "plt.xticks(rotation = 90)"
   ]
  },
  {
   "cell_type": "code",
   "execution_count": null,
   "metadata": {},
   "outputs": [],
   "source": []
  }
 ],
 "metadata": {
  "kernelspec": {
   "display_name": "Python 3 (ipykernel)",
   "language": "python",
   "name": "python3"
  },
  "language_info": {
   "codemirror_mode": {
    "name": "ipython",
    "version": 3
   },
   "file_extension": ".py",
   "mimetype": "text/x-python",
   "name": "python",
   "nbconvert_exporter": "python",
   "pygments_lexer": "ipython3",
   "version": "3.9.13"
  },
  "varInspector": {
   "cols": {
    "lenName": 16,
    "lenType": 16,
    "lenVar": 40
   },
   "kernels_config": {
    "python": {
     "delete_cmd_postfix": "",
     "delete_cmd_prefix": "del ",
     "library": "var_list.py",
     "varRefreshCmd": "print(var_dic_list())"
    },
    "r": {
     "delete_cmd_postfix": ") ",
     "delete_cmd_prefix": "rm(",
     "library": "var_list.r",
     "varRefreshCmd": "cat(var_dic_list()) "
    }
   },
   "types_to_exclude": [
    "module",
    "function",
    "builtin_function_or_method",
    "instance",
    "_Feature"
   ],
   "window_display": false
  }
 },
 "nbformat": 4,
 "nbformat_minor": 2
}
